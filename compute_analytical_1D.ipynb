{
 "cells": [
  {
   "cell_type": "code",
   "execution_count": 5,
   "metadata": {},
   "outputs": [],
   "source": [
    "import numpy as np\n",
    "import matplotlib.pyplot as plt\n",
    "from sklearn.cluster import MeanShift\n",
    "import os\n",
    "import Parameters as param\n",
    "import sys\n",
    "sys.path.append('/home/hcleroy/PostDoc/aging_condensates/Simulation/Aging_Condensate/Gillespie_backend/')\n",
    "import Gillespie_backend as gil\n",
    "sys.path.append('/home/hcleroy/PostDoc/aging_condensates/Simulation/Aging_Condensate/Analysis_cluster/Analysis_object')\n",
    "import Simulate as Sim\n",
    "sys.path.append('/home/hcleroy/PostDoc/aging_condensates/Simulation/super_simple_simulation/')\n",
    "import Super_Simple_System as SSSys"
   ]
  },
  {
   "cell_type": "code",
   "execution_count": 6,
   "metadata": {},
   "outputs": [],
   "source": [
    "Nlinker = 2\n",
    "ell_tot = 10**3\n",
    "kdiff = Nlinker/ (4/3 * np.pi * (ell_tot /2)**1.5)\n",
    "Energy = [-10. for _ in range(10)]#np.linspace(-50,-10,10)\n",
    "seeds = [np.random.randint(0,1000000) for _ in range(10)]\n"
   ]
  },
  {
   "cell_type": "code",
   "execution_count": 17,
   "metadata": {},
   "outputs": [],
   "source": [
    "# the analytics :\n",
    "sssys = SSSys.System(2*np.sqrt(ell_tot),ell_tot,Energy[0],kdiff,100,dangling=True)\n",
    "\n",
    "Gil = gil.Gillespie(ell_tot=ell_tot,rho0=0.,BindingEnergy=Energy[0],kdiff=kdiff,seed=19874,sliding=False,Nlinker=2,old_gillespie=None,dimension=1)"
   ]
  },
  {
   "cell_type": "code",
   "execution_count": null,
   "metadata": {},
   "outputs": [],
   "source": []
  },
  {
   "cell_type": "code",
   "execution_count": 15,
   "metadata": {},
   "outputs": [
    {
     "data": {
      "image/png": "[encoded data removed]",
      "text/plain": [
       "<Figure size 300x200 with 1 Axes>"
      ]
     },
     "metadata": {},
     "output_type": "display_data"
    }
   ],
   "source": [
    "plt.figure(figsize=(3,2))\n",
    "plt.plot(sssys.X(),sssys.binding_rates)\n",
    "plt.xscale('log')"
   ]
  },
  {
   "cell_type": "code",
   "execution_count": null,
   "metadata": {},
   "outputs": [],
   "source": []
  }
 ],
 "metadata": {
  "kernelspec": {
   "display_name": "base",
   "language": "python",
   "name": "python3"
  },
  "language_info": {
   "codemirror_mode": {
    "name": "ipython",
    "version": 3
   },
   "file_extension": ".py",
   "mimetype": "text/x-python",
   "name": "python",
   "nbconvert_exporter": "python",
   "pygments_lexer": "ipython3",
   "version": "3.8.8"
  },
  "orig_nbformat": 4
 },
 "nbformat": 4,
 "nbformat_minor": 2
}
