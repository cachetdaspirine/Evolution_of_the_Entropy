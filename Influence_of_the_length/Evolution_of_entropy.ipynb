{
 "cells": [
  {
   "cell_type": "code",
   "execution_count": 4,
   "metadata": {},
   "outputs": [],
   "source": [
    "import importlib\n",
    "import matplotlib.pyplot as plt\n",
    "import sys\n",
    "\n",
    "sys.path.append('/home/hcleroy/PostDoc/aging_condensates/Simulation/Evolution_of_the_entropy/')\n",
    "import Parallel_Run_Average_Entropy_Shared_Mem\n",
    "importlib.reload(Parallel_Run_Average_Entropy_Shared_Mem)\n",
    "from Parallel_Run_Average_Entropy_Shared_Mem import *\n",
    "\n",
    "\n",
    "sys.path.append('/home/hcleroy/PostDoc/aging_condensates/Simulation/Gillespie/Analysis/')\n",
    "sys.path.append('/home/hugo/PostDoc/aging_condensates/Gillespie/Analysis/')\n",
    "from ToolBox import *\n",
    "\n",
    "sys.path.append('/home/hcleroy/Extra_Module_py')\n",
    "sys.path.append('/home/hugo/Extra_Module_py')\n",
    "import formated_matplotlib\n",
    "\n",
    "Ec = lambda L,N : 3/2*np.log(L/N* np.pi/3)"
   ]
  },
  {
   "cell_type": "code",
   "execution_count": 17,
   "metadata": {},
   "outputs": [
    {
     "name": "stdout",
     "output_type": "stream",
     "text": [
      "5.937210903914155\n"
     ]
    }
   ],
   "source": [
    "# gillespie parameter\n",
    "Nlinker = 20\n",
    "ell_tot = 10**3\n",
    "V = 2*((ell_tot/6)**1.5/Nlinker**0.5*3/4*np.pi)\n",
    "kdiff = 1/(V) # for 1D\n",
    "Energy = -15\n",
    "Nprocess = 100\n",
    "args = [[ell_tot,Energy,kdiff,np.random.randint(1000000),Nlinker,3] for _ in range(Nprocess)]\n",
    "print(Ec(ell_tot,Nlinker))\n",
    "# Simulation parameters\n",
    "step_tot = 200000\n",
    "compute_steps = 30"
   ]
  },
  {
   "cell_type": "code",
   "execution_count": 19,
   "metadata": {},
   "outputs": [
    {
     "name": "stdout",
     "output_type": "stream",
     "text": [
      "0.43587000000000004\n",
      "14.873995\n",
      "83.30745499999999\n"
     ]
    }
   ],
   "source": [
    "for i in range(Nprocess):\n",
    "    args[i][0] = 10**2\n",
    "STE2 = average_simulations(args,step_tot,compute_steps)\n",
    "for i in range(Nprocess):\n",
    "    args[i][0] = 10**3\n",
    "STE3 = average_simulations(args,step_tot,compute_steps)\n",
    "for i in range(Nprocess):\n",
    "    args[i][0] = 10**4\n",
    "STE4 = average_simulations(args,step_tot,compute_steps)"
   ]
  },
  {
   "cell_type": "code",
   "execution_count": 28,
   "metadata": {},
   "outputs": [
    {
     "data": {
      "image/png": "[encoded data removed]",
      "text/plain": [
       "<Figure size 334.646x251.613 with 1 Axes>"
      ]
     },
     "metadata": {},
     "output_type": "display_data"
    }
   ],
   "source": [
    "plt.plot(STE2[:,0],STE2[:,1]/abs(min(STE2[:,1])))\n",
    "plt.plot(STE3[:,0],STE3[:,1]/abs(min(STE3[:,1])))\n",
    "plt.plot(STE4[:,0],STE4[:,1]/abs(min(STE4[:,1])))\n",
    "plt.xscale('log')\n",
    "#plt.xlim(1,10**3)"
   ]
  },
  {
   "cell_type": "code",
   "execution_count": null,
   "metadata": {},
   "outputs": [],
   "source": []
  }
 ],
 "metadata": {
  "kernelspec": {
   "display_name": "base",
   "language": "python",
   "name": "python3"
  },
  "language_info": {
   "codemirror_mode": {
    "name": "ipython",
    "version": 3
   },
   "file_extension": ".py",
   "mimetype": "text/x-python",
   "name": "python",
   "nbconvert_exporter": "python",
   "pygments_lexer": "ipython3",
   "version": "3.8.8"
  },
  "orig_nbformat": 4
 },
 "nbformat": 4,
 "nbformat_minor": 2
}
