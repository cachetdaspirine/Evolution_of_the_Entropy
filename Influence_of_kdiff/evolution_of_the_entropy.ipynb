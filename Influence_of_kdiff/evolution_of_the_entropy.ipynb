{
 "cells": [
  {
   "cell_type": "code",
   "execution_count": 1,
   "metadata": {},
   "outputs": [],
   "source": [
    "import importlib\n",
    "import matplotlib.pyplot as plt\n",
    "import sys\n",
    "\n",
    "sys.path.append('/home/hcleroy/PostDoc/aging_condensates/Simulation/Evolution_of_the_entropy/')\n",
    "import Parallel_Run_Average_Entropy_Shared_Mem\n",
    "importlib.reload(Parallel_Run_Average_Entropy_Shared_Mem)\n",
    "from Parallel_Run_Average_Entropy_Shared_Mem import *\n",
    "\n",
    "\n",
    "sys.path.append('/home/hcleroy/PostDoc/aging_condensates/Simulation/Gillespie/Analysis/')\n",
    "sys.path.append('/home/hugo/PostDoc/aging_condensates/Gillespie/Analysis/')\n",
    "from ToolBox import *\n",
    "\n",
    "sys.path.append('/home/hcleroy/Extra_Module_py')\n",
    "sys.path.append('/home/hugo/Extra_Module_py')\n",
    "import formated_matplotlib\n",
    "\n",
    "Ec = lambda L,N : 3/2*np.log(L/N* np.pi/3)"
   ]
  },
  {
   "cell_type": "code",
   "execution_count": 32,
   "metadata": {},
   "outputs": [
    {
     "name": "stdout",
     "output_type": "stream",
     "text": [
      "5.937210903914155\n",
      "3.059023205018258e-07\n"
     ]
    }
   ],
   "source": [
    "# gillespie parameter\n",
    "Nlinker = 20\n",
    "ell_tot = 10**3\n",
    "V = 2*((ell_tot/6)**1.5/Nlinker**0.5*3/4*np.pi)\n",
    "kdiff = ell_tot/(V) # for 1D\n",
    "Energy = -15\n",
    "Nprocess = 100\n",
    "args = [[ell_tot,Energy,kdiff,np.random.randint(1000000),Nlinker,3] for _ in range(Nprocess)]\n",
    "print(Ec(ell_tot,Nlinker))\n",
    "print(np.exp(Energy))\n",
    "# Simulation parameters\n",
    "step_tot = 2*10**6\n",
    "compute_steps = 100"
   ]
  },
  {
   "cell_type": "code",
   "execution_count": 3,
   "metadata": {},
   "outputs": [
    {
     "name": "stdout",
     "output_type": "stream",
     "text": [
      "40.198635000000024\n",
      "5.573115000000001\n",
      "0.6105499999999998\n"
     ]
    }
   ],
   "source": [
    "for i in range(Nprocess):\n",
    "    args[i][2] = kdiff\n",
    "ST1 = average_simulations(args,step_tot,compute_steps)\n",
    "for i in range(Nprocess):\n",
    "    args[i][2] = kdiff/10\n",
    "ST2 = average_simulations(args,step_tot,compute_steps)\n",
    "for i in range(Nprocess):\n",
    "    args[i][2] = kdiff/100\n",
    "ST3 = average_simulations(args,step_tot,compute_steps)"
   ]
  },
  {
   "cell_type": "code",
   "execution_count": 10,
   "metadata": {},
   "outputs": [
    {
     "name": "stdout",
     "output_type": "stream",
     "text": [
      "89.19209499999997\n",
      "0.09037499999999998\n"
     ]
    }
   ],
   "source": [
    "for i in range(Nprocess):\n",
    "    args[i][2] = 10*kdiff\n",
    "ST0 = average_simulations(args,step_tot,compute_steps)\n",
    "for i in range(Nprocess):\n",
    "    args[i][2] = kdiff/1000\n",
    "ST4 = average_simulations(args,step_tot,compute_steps)"
   ]
  },
  {
   "cell_type": "code",
   "execution_count": 33,
   "metadata": {},
   "outputs": [
    {
     "name": "stdout",
     "output_type": "stream",
     "text": [
      "99.04162299999999\n",
      "99.91533999999996\n"
     ]
    }
   ],
   "source": [
    "for i in range(Nprocess):\n",
    "    args[i][2] = 100*kdiff\n",
    "ST_1 = average_simulations(args,step_tot,compute_steps)\n",
    "for i in range(Nprocess):\n",
    "    args[i][2] = 1000*kdiff\n",
    "ST_2 = average_simulations(args,step_tot,compute_steps)"
   ]
  },
  {
   "cell_type": "code",
   "execution_count": 17,
   "metadata": {},
   "outputs": [
    {
     "name": "stdout",
     "output_type": "stream",
     "text": [
      "0.4307296999999999\n"
     ]
    }
   ],
   "source": [
    "step_tot = 2*10**7\n",
    "compute_steps = 500\n",
    "Nprocess = 50\n",
    "args = [[ell_tot,Energy,kdiff/100,np.random.randint(1000000),Nlinker,3] for _ in range(Nprocess)]\n",
    "\n",
    "ST3 = average_simulations(args,step_tot,compute_steps)"
   ]
  },
  {
   "cell_type": "code",
   "execution_count": 30,
   "metadata": {},
   "outputs": [
    {
     "data": {
      "text/plain": [
       "'0x1.210e1c99f615dp-8'"
      ]
     },
     "execution_count": 30,
     "metadata": {},
     "output_type": "execute_result"
    }
   ],
   "source": [
    "(kdiff/100).hex()"
   ]
  },
  {
   "cell_type": "code",
   "execution_count": 31,
   "metadata": {},
   "outputs": [],
   "source": [
    "np.save('kdiff_'+(kdiff/100).hex()+'_ttot_2E7.npy',ST3)\n",
    "np.save('kdiff_'+(kdiff*10).hex()+'_ttot_2E6.npy',ST0)"
   ]
  },
  {
   "cell_type": "code",
   "execution_count": 39,
   "metadata": {},
   "outputs": [
    {
     "data": {
      "text/plain": [
       "(0.1, 1000000)"
      ]
     },
     "execution_count": 39,
     "metadata": {},
     "output_type": "execute_result"
    },
    {
     "data": {
      "image/png": "[encoded data removed]",
      "text/plain": [
       "<Figure size 334.646x251.613 with 1 Axes>"
      ]
     },
     "metadata": {},
     "output_type": "display_data"
    }
   ],
   "source": [
    "plt.plot(ST_2[:,0],ST_2[:,1])\n",
    "plt.plot(ST_1[:,0],ST_1[:,1])\n",
    "plt.plot(ST0[:,0],ST0[:,1])#/abs(min(ST1[:,1])))\n",
    "plt.plot(ST1[:,0],ST1[:,1])#/abs(min(ST1[:,1])))\n",
    "plt.plot(ST2[:,0],ST2[:,1])#/abs(min(ST2[:,1])))\n",
    "plt.plot(ST3[:,0],ST3[:,1])#/abs(min(ST3[:,1])))\n",
    "plt.plot(ST4[:,0],ST4[:,1])#/abs(min(ST1[:,1])))\n",
    "plt.ylim(-150,-120)\n",
    "plt.xscale('log')\n",
    "plt.xlim(0.1,10**6)"
   ]
  },
  {
   "cell_type": "code",
   "execution_count": null,
   "metadata": {},
   "outputs": [],
   "source": []
  }
 ],
 "metadata": {
  "kernelspec": {
   "display_name": "base",
   "language": "python",
   "name": "python3"
  },
  "language_info": {
   "codemirror_mode": {
    "name": "ipython",
    "version": 3
   },
   "file_extension": ".py",
   "mimetype": "text/x-python",
   "name": "python",
   "nbconvert_exporter": "python",
   "pygments_lexer": "ipython3",
   "version": "3.8.8"
  },
  "orig_nbformat": 4
 },
 "nbformat": 4,
 "nbformat_minor": 2
}
