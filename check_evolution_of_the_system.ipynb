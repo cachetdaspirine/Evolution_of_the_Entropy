{
 "cells": [
  {
   "cell_type": "code",
   "execution_count": 1,
   "metadata": {},
   "outputs": [],
   "source": [
    "import numpy as np\n",
    "import matplotlib.pyplot as plt\n",
    "from sklearn.cluster import MeanShift\n",
    "import os\n",
    "import Parameters as param\n",
    "import sys\n",
    "sys.path.append('/home/hcleroy/PostDoc/aging_condensates/Simulation/Gillespie/Gillespie_backend/')\n",
    "import Gillespie_backend as gil\n",
    "sys.path.append('/home/hcleroy/PostDoc/aging_condensates/Simulation/Gillespie/Analysis/')\n",
    "import Simulate as Sim\n",
    "\n",
    "from astropy.visualization import LogStretch\n",
    "from astropy.visualization.mpl_normalize import ImageNormalize\n",
    "norm = ImageNormalize(vmin=0., vmax=100, stretch=LogStretch())\n",
    "import mpl_scatter_density # adds projection='scatter_density'\n",
    "from matplotlib.colors import LinearSegmentedColormap\n",
    "\n",
    "# \"Viridis-like\" colormap with white background\n",
    "white_viridis = LinearSegmentedColormap.from_list('white_viridis', [\n",
    "    (0, '#ffffff'),\n",
    "    (1e-20, '#440053'),\n",
    "    (0.2, '#404388'),\n",
    "    (0.4, '#2a788e'),\n",
    "    (0.6, '#21a784'),\n",
    "    (0.8, '#78d151'),\n",
    "    (1, '#fde624'),\n",
    "], N=256)\n",
    "\n",
    "def using_mpl_scatter_density(fig, x, y,nrows=1,ncols=1,pos=1,dpi=75,norm=None,colorbar=True,cmap=white_viridis,ax=None):\n",
    "    if ax is None:\n",
    "        ax = fig.add_subplot(nrows, ncols, pos, projection='scatter_density')\n",
    "    if norm is None:\n",
    "        density = ax.scatter_density(x, y, cmap=cmap,dpi=dpi)\n",
    "    else:\n",
    "        density = ax.scatter_density(x, y, cmap=cmap,dpi=dpi,norm=norm)\n",
    "    if colorbar:\n",
    "        fig.colorbar(density, label='Number of points per pixel')\n",
    "    return ax\n",
    "\n",
    "from matplotlib.colors import ListedColormap\n",
    "cmap = plt.cm.Blues\n",
    "my_cmap = cmap(np.arange(cmap.N))\n",
    "my_cmap[:,-1] = np.linspace(0, 1, cmap.N)\n",
    "my_cmap = ListedColormap(my_cmap)\n",
    "cmap = plt.cm.Purples\n",
    "my_cmap_P = cmap(np.arange(cmap.N))\n",
    "my_cmap_P[:,-1] = np.linspace(0, 1, cmap.N)\n",
    "my_cmap_P = ListedColormap(my_cmap_P)"
   ]
  },
  {
   "attachments": {},
   "cell_type": "markdown",
   "metadata": {},
   "source": [
    "## Summarize of this document :\n",
    "Here we look at the value of the entropy of the system and its correlation with the average distance of the linkers from [0,0,0].\n",
    "We observe that the smaller is the average distance : the bigger the entropy is"
   ]
  },
  {
   "cell_type": "code",
   "execution_count": 2,
   "metadata": {},
   "outputs": [
    {
     "name": "stdout",
     "output_type": "stream",
     "text": [
      "critical energy : 6.976931674754073\n"
     ]
    }
   ],
   "source": [
    "Nlinker = 10\n",
    "ell_tot = 10**3\n",
    "#kdiff = Nlinker/ (4/3 * np.pi * (ell_tot /2)**1.5)\n",
    "V = ((ell_tot/6)**1.5/Nlinker**0.5*3/4*np.pi)\n",
    "#V = 4/3*np.pi*(ell_tot/6)**1.5\n",
    "kdiff = 5/V\n",
    "Energy = -15\n",
    "seeds = [np.random.randint(0,1000000) for _ in range(10)]\n",
    "print('critical energy : '+str(1.5*np.log(ell_tot/Nlinker*(np.pi/3))))\n",
    "\n",
    "step_tot = 10**5\n",
    "dump_step = 10**3\n",
    "measurement_step = 10**2"
   ]
  },
  {
   "cell_type": "code",
   "execution_count": 3,
   "metadata": {},
   "outputs": [],
   "source": [
    "def nonzero_points(arr):\n",
    "    \"\"\"Returns all points in `arr` that are not equal to [0, 0, 0].\n",
    "    \n",
    "    Args:\n",
    "        arr (numpy.ndarray): A 2D or 3D array of shape (Lx, N, 3) or (N, 3)\n",
    "    \n",
    "    Returns:\n",
    "        numpy.ndarray: A 2D array of shape (M, 3) where M is the number of non-zero points in `arr`\n",
    "    \"\"\"\n",
    "    arr = np.atleast_2d(arr)\n",
    "    nonzero_mask = np.any(arr != [0,0,0], axis=1)\n",
    "    nonzero_indices = np.argwhere(nonzero_mask)\n",
    "    nonzero_points = arr[nonzero_mask]\n",
    "    result = nonzero_points.reshape((-1, 3))\n",
    "    return result\n",
    "\n",
    "\n",
    "\n",
    "import numpy as np\n",
    "\n",
    "def linker_entropy(move, S):\n",
    "    \"\"\"\n",
    "    This function takes two arrays 'move' and 'S' as input and returns a dictionary. The keys in the dictionary\n",
    "    represent the number of bound linkers, and the values are 2D NumPy arrays containing the corresponding\n",
    "    entropy values and their indices in the input array 'S'.\n",
    "    \n",
    "    Parameters:\n",
    "    - move (list): An array where each entry is an integer between 0 and 3 (inclusive). A value of 3 represents\n",
    "                   a linker binding, while a value of 0 represents a linker unbinding. Values 1 and 2 indicate\n",
    "                   no change in the number of bound linkers.\n",
    "    - S (list): An array containing the entropy of the system at each step in 'move'.\n",
    "    \n",
    "    Returns:\n",
    "    - entropy_dict (dict): A dictionary where each key represents the number of bound linkers and the corresponding\n",
    "                           value is a 2D NumPy array. Each row of the array contains the entropy for that number of bound linkers\n",
    "                           and the index of the entropy value in the input array 'S'.\n",
    "    \"\"\"\n",
    "    entropy_dict = {}\n",
    "    bound_linkers = 0\n",
    "\n",
    "    for i in range(len(move)):\n",
    "        if move[i] == 3:\n",
    "            bound_linkers += 1\n",
    "        elif move[i] == 0:\n",
    "            bound_linkers -= 1\n",
    "            if bound_linkers < 0:\n",
    "                bound_linkers = 0\n",
    "\n",
    "        if bound_linkers not in entropy_dict:\n",
    "            entropy_dict[bound_linkers] = []\n",
    "\n",
    "        entropy_dict[bound_linkers].append((S[i], i))\n",
    "\n",
    "    for key in entropy_dict:\n",
    "        entropy_dict[key] = np.array(entropy_dict[key])\n",
    "\n",
    "    return entropy_dict\n",
    "\n"
   ]
  },
  {
   "cell_type": "code",
   "execution_count": 17,
   "metadata": {},
   "outputs": [],
   "source": [
    "Gil = gil.Gillespie(ell_tot=ell_tot,rho0=0.,BindingEnergy=Energy,kdiff=kdiff,seed=19874,sliding=False,Nlinker=10,old_gillespie=None,dimension=1)"
   ]
  },
  {
   "cell_type": "code",
   "execution_count": 18,
   "metadata": {},
   "outputs": [],
   "source": [
    "R = np.zeros((step_tot,9,3),dtype=float)\n",
    "S = np.zeros((step_tot),dtype=float)\n",
    "moves = np.zeros((step_tot),dtype=float)\n",
    "for step in range(step_tot):\n",
    "    move,time = Gil.evolve()\n",
    "    moves[step] = move\n",
    "    R[step] = nonzero_points(Gil.get_r())\n",
    "    S[step] = Gil.get_S()"
   ]
  },
  {
   "cell_type": "code",
   "execution_count": 19,
   "metadata": {},
   "outputs": [],
   "source": [
    "S -= ell_tot*np.log(np.pi*4)\n",
    "entropy_dict = linker_entropy(moves,S)"
   ]
  },
  {
   "cell_type": "code",
   "execution_count": 20,
   "metadata": {},
   "outputs": [
    {
     "data": {
      "text/plain": [
       "(array([27993.,     0.,     0., 44006.,     0.,     0.,     0.,     0.,\n",
       "            0., 28001.]),\n",
       " array([0. , 0.3, 0.6, 0.9, 1.2, 1.5, 1.8, 2.1, 2.4, 2.7, 3. ]),\n",
       " <BarContainer object of 10 artists>)"
      ]
     },
     "execution_count": 20,
     "metadata": {},
     "output_type": "execute_result"
    },
    {
     "data": {
      "image/png": "[encoded data removed]",
      "text/plain": [
       "<Figure size 400x300 with 1 Axes>"
      ]
     },
     "metadata": {},
     "output_type": "display_data"
    }
   ],
   "source": [
    "plt.figure(figsize=(4,3))\n",
    "plt.hist(moves)"
   ]
  },
  {
   "cell_type": "code",
   "execution_count": 21,
   "metadata": {},
   "outputs": [
    {
     "data": {
      "text/plain": [
       "(12,)"
      ]
     },
     "execution_count": 21,
     "metadata": {},
     "output_type": "execute_result"
    }
   ],
   "source": [
    "np.mean(np.linalg.norm(R[np.asarray(entropy_dict[1][:,1],int)],axis=2),axis=1).shape"
   ]
  },
  {
   "cell_type": "code",
   "execution_count": 22,
   "metadata": {},
   "outputs": [
    {
     "name": "stdout",
     "output_type": "stream",
     "text": [
      "[(42, 2), (12, 2), (1, 2), (2, 2), (17, 2), (1, 2), (2, 2), (72, 2), (71892, 2), (27959, 2)]\n"
     ]
    }
   ],
   "source": [
    "print([entropy_dict[key].shape for key in entropy_dict.keys()])"
   ]
  },
  {
   "cell_type": "code",
   "execution_count": 23,
   "metadata": {},
   "outputs": [
    {
     "data": {
      "text/plain": [
       "Text(0.5, 0, 'R')"
      ]
     },
     "execution_count": 23,
     "metadata": {},
     "output_type": "execute_result"
    },
    {
     "data": {
      "image/png": "[encoded data removed]",
      "text/plain": [
       "<Figure size 400x300 with 2 Axes>"
      ]
     },
     "metadata": {},
     "output_type": "display_data"
    }
   ],
   "source": [
    "fig = plt.figure(figsize=(4,3))\n",
    "#plt.scatter(np.mean(np.linalg.norm(R[np.asarray(entropy_dict[8][:,1],int)],axis=2),axis=1),entropy_dict[8][:,0])\n",
    "ax = using_mpl_scatter_density(fig,np.mean(np.linalg.norm(R[np.asarray(entropy_dict[8][:,1],int)],axis=2),axis=1),entropy_dict[8][:,0],dpi=20)\n",
    "#using_mpl_scatter_density(fig,np.mean(np.linalg.norm(R[np.asarray(entropy_dict[8][:,1],int)],axis=2),axis=1),entropy_dict[8][:,0],dpi=20,ax = ax,pos=0)\n",
    "ax.set_ylabel('entropy')\n",
    "ax.set_xlabel('R',rotation=0)"
   ]
  },
  {
   "cell_type": "code",
   "execution_count": 95,
   "metadata": {},
   "outputs": [
    {
     "name": "stdout",
     "output_type": "stream",
     "text": [
      "critical energy : 6.976931674754073\n"
     ]
    }
   ],
   "source": [
    "Energy = -8\n",
    "Nlinker=10\n",
    "print('critical energy : '+str(1.5*np.log(ell_tot/Nlinker*(np.pi/3))))\n",
    "V = ((ell_tot/6)**1.5/Nlinker**0.5*3/4*np.pi)\n",
    "kdiff = 1/(5*V)\n",
    "Gil = gil.Gillespie(ell_tot=ell_tot,rho0=0.,BindingEnergy=Energy,kdiff=kdiff,seed=19874,sliding=False,Nlinker=Nlinker,old_gillespie=None,dimension=3)\n",
    "R = np.zeros((step_tot,Nlinker-1,3),dtype=float)\n",
    "S = np.zeros((step_tot),dtype=float)\n",
    "moves = np.zeros((step_tot),dtype=float)\n",
    "for step in range(step_tot):\n",
    "    move,time = Gil.evolve()\n",
    "    moves[step] = move\n",
    "    R[step] = nonzero_points(Gil.get_r())\n",
    "    S[step] = Gil.get_S()"
   ]
  },
  {
   "cell_type": "code",
   "execution_count": 96,
   "metadata": {},
   "outputs": [],
   "source": [
    "S -= ell_tot*np.log(np.pi*4)\n",
    "entropy_dict = linker_entropy(moves,S)"
   ]
  },
  {
   "cell_type": "code",
   "execution_count": 97,
   "metadata": {},
   "outputs": [
    {
     "data": {
      "text/plain": [
       "(array([38416.,     0.,     0., 23165.,     0.,     0.,     0.,     0.,\n",
       "            0., 38419.]),\n",
       " array([0. , 0.3, 0.6, 0.9, 1.2, 1.5, 1.8, 2.1, 2.4, 2.7, 3. ]),\n",
       " <BarContainer object of 10 artists>)"
      ]
     },
     "execution_count": 97,
     "metadata": {},
     "output_type": "execute_result"
    },
    {
     "data": {
      "image/png": "[encoded data removed]",
      "text/plain": [
       "<Figure size 400x300 with 1 Axes>"
      ]
     },
     "metadata": {},
     "output_type": "display_data"
    }
   ],
   "source": [
    "plt.figure(figsize=(4,3))\n",
    "plt.hist(moves)"
   ]
  },
  {
   "cell_type": "code",
   "execution_count": 99,
   "metadata": {},
   "outputs": [
    {
     "name": "stdout",
     "output_type": "stream",
     "text": [
      "[(8889, 2), (6312, 2), (8345, 2), (11108, 2), (15159, 2), (18174, 2), (16680, 2), (10757, 2), (3956, 2), (620, 2)]\n"
     ]
    }
   ],
   "source": [
    "print([entropy_dict[key].shape for key in entropy_dict.keys()])"
   ]
  },
  {
   "cell_type": "code",
   "execution_count": 103,
   "metadata": {},
   "outputs": [
    {
     "data": {
      "text/plain": [
       "Text(0.5, 0, 'R')"
      ]
     },
     "execution_count": 103,
     "metadata": {},
     "output_type": "execute_result"
    },
    {
     "data": {
      "image/png": "[encoded data removed]",
      "text/plain": [
       "<Figure size 400x300 with 2 Axes>"
      ]
     },
     "metadata": {},
     "output_type": "display_data"
    }
   ],
   "source": [
    "N= 4\n",
    "fig = plt.figure(figsize=(4,3))\n",
    "#plt.scatter(np.mean(np.linalg.norm(R[np.asarray(entropy_dict[8][:,1],int)],axis=2),axis=1),entropy_dict[8][:,0])\n",
    "ax = using_mpl_scatter_density(fig,np.mean(np.linalg.norm(R[np.asarray(entropy_dict[N][:,1],int)],axis=2),axis=1),entropy_dict[N][:,0],dpi=20)\n",
    "#using_mpl_scatter_density(fig,np.mean(np.linalg.norm(R[np.asarray(entropy_dict[8][:,1],int)],axis=2),axis=1),entropy_dict[8][:,0],dpi=20,ax = ax,pos=0)\n",
    "ax.set_ylabel('entropy')\n",
    "ax.set_xlabel('R',rotation=0)"
   ]
  },
  {
   "cell_type": "code",
   "execution_count": null,
   "metadata": {},
   "outputs": [],
   "source": []
  }
 ],
 "metadata": {
  "kernelspec": {
   "display_name": "base",
   "language": "python",
   "name": "python3"
  },
  "language_info": {
   "codemirror_mode": {
    "name": "ipython",
    "version": 3
   },
   "file_extension": ".py",
   "mimetype": "text/x-python",
   "name": "python",
   "nbconvert_exporter": "python",
   "pygments_lexer": "ipython3",
   "version": "3.8.8"
  },
  "orig_nbformat": 4
 },
 "nbformat": 4,
 "nbformat_minor": 2
}
